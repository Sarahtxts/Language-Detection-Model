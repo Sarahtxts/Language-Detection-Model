{
  "cells": [
    {
      "cell_type": "code",
      "execution_count": null,
      "metadata": {
        "id": "znSXnNr5KGyv",
        "colab": {
          "base_uri": "https://localhost:8080/"
        },
        "outputId": "b80ce049-05da-4dfe-c7f6-72c66fa2356a"
      },
      "outputs": [
        {
          "output_type": "stream",
          "name": "stderr",
          "text": [
            "/usr/local/lib/python3.11/dist-packages/huggingface_hub/utils/_auth.py:94: UserWarning: \n",
            "The secret `HF_TOKEN` does not exist in your Colab secrets.\n",
            "To authenticate with the Hugging Face Hub, create a token in your settings tab (https://huggingface.co/settings/tokens), set it as secret in your Google Colab and restart your session.\n",
            "You will be able to reuse this secret in all of your notebooks.\n",
            "Please note that authentication is recommended but still optional to access public models or datasets.\n",
            "  warnings.warn(\n"
          ]
        },
        {
          "output_type": "stream",
          "name": "stdout",
          "text": [
            "Number of samples: 95047\n",
            "Languages: ['Assamese', 'Bengali', 'English', 'Gujarati', 'Hindi', 'Kannada', 'Kashmiri', 'Konkani', 'Malayalam', 'Marathi', 'Nepali', 'Odia', 'Punjabi', 'Sanskrit', 'Sindhi', 'Tamil', 'Telugu', 'Urdu']\n"
          ]
        }
      ],
      "source": [
        "import pandas as pd\n",
        "from sklearn.preprocessing import LabelEncoder\n",
        "\n",
        "df = pd.read_parquet(\"hf://datasets/Process-Venue/Language_Indentification_v2/data/train-00000-of-00001.parquet\")\n",
        "\n",
        "df = df.dropna(subset=['Headline', 'Language'])\n",
        "\n",
        "le = LabelEncoder()\n",
        "df['label'] = le.fit_transform(df['Language'])\n",
        "\n",
        "print(f\"Number of samples: {len(df)}\")\n",
        "print(f\"Languages: {list(le.classes_)}\")\n"
      ]
    },
    {
      "cell_type": "code",
      "execution_count": null,
      "metadata": {
        "colab": {
          "base_uri": "https://localhost:8080/"
        },
        "id": "5SRUAZmSKKO2",
        "outputId": "cb0d4193-97d8-4ca1-91f7-5b8e7901225a"
      },
      "outputs": [
        {
          "output_type": "stream",
          "name": "stdout",
          "text": [
            "Feature matrix shape: (95047, 5000)\n"
          ]
        }
      ],
      "source": [
        "from sklearn.feature_extraction.text import CountVectorizer\n",
        "\n",
        "vectorizer = CountVectorizer(analyzer='char', ngram_range=(1,3), max_features=5000)\n",
        "\n",
        "X = vectorizer.fit_transform(df['Headline'])\n",
        "y = df['label']\n",
        "\n",
        "print(f\"Feature matrix shape: {X.shape}\")\n"
      ]
    },
    {
      "cell_type": "code",
      "execution_count": null,
      "metadata": {
        "colab": {
          "base_uri": "https://localhost:8080/"
        },
        "id": "jA_k182cKRSG",
        "outputId": "dfc790d8-20c0-4204-e05e-6bea4b878bec"
      },
      "outputs": [
        {
          "output_type": "stream",
          "name": "stderr",
          "text": [
            "/usr/local/lib/python3.11/dist-packages/sklearn/linear_model/_sag.py:348: ConvergenceWarning: The max_iter was reached which means the coef_ did not converge\n",
            "  warnings.warn(\n"
          ]
        },
        {
          "output_type": "stream",
          "name": "stdout",
          "text": [
            "Model training complete.\n"
          ]
        }
      ],
      "source": [
        "from sklearn.linear_model import LogisticRegression\n",
        "\n",
        "model = LogisticRegression(max_iter=200, solver='saga', n_jobs=-1)\n",
        "model.fit(X, y)\n",
        "\n",
        "print(\"Model training complete.\")\n"
      ]
    },
    {
      "cell_type": "code",
      "execution_count": null,
      "metadata": {
        "id": "jqTqLqoULG4R"
      },
      "outputs": [],
      "source": [
        "def predict_language(text):\n",
        "    x = vectorizer.transform([text])\n",
        "    pred = model.predict(x)\n",
        "    return le.inverse_transform(pred)[0]\n"
      ]
    },
    {
      "cell_type": "code",
      "execution_count": null,
      "metadata": {
        "colab": {
          "base_uri": "https://localhost:8080/"
        },
        "id": "ApvS6uO5LRp-",
        "outputId": "0ff557e0-8d9a-4857-a9b6-36fe7814dc0e"
      },
      "outputs": [
        {
          "output_type": "stream",
          "name": "stdout",
          "text": [
            "Enter a sentence (or 'exit' to quit): வணக்கம்\n",
            "Predicted language: Tamil\n",
            "\n",
            "Enter a sentence (or 'exit' to quit): hello\n",
            "Predicted language: English\n",
            "\n",
            "Enter a sentence (or 'exit' to quit): নমস্কার\n",
            "Predicted language: Bengali\n",
            "\n",
            "Enter a sentence (or 'exit' to quit): నమస్కరం\n",
            "Predicted language: Telugu\n",
            "\n",
            "Enter a sentence (or 'exit' to quit): exit\n",
            "Goodbye!\n"
          ]
        }
      ],
      "source": [
        "while True:\n",
        "    text = input(\"Enter a sentence (or 'exit' to quit): \")\n",
        "    if text.lower() == 'exit':\n",
        "        print(\"Goodbye!\")\n",
        "        break\n",
        "    language = predict_language(text)\n",
        "    print(f\"Predicted language: {language}\\n\")\n"
      ]
    }
  ],
  "metadata": {
    "colab": {
      "provenance": []
    },
    "kernelspec": {
      "display_name": "Python 3",
      "name": "python3"
    },
    "language_info": {
      "name": "python"
    }
  },
  "nbformat": 4,
  "nbformat_minor": 0
}
